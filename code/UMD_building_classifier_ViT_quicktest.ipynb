{
  "nbformat": 4,
  "nbformat_minor": 0,
  "metadata": {
    "colab": {
      "provenance": []
    },
    "kernelspec": {
      "name": "python3",
      "display_name": "Python 3"
    },
    "language_info": {
      "name": "python"
    },
    "widgets": {
      "application/vnd.jupyter.widget-state+json": {
        "8990a56960df400483cce4439a990115": {
          "model_module": "@jupyter-widgets/controls",
          "model_name": "HBoxModel",
          "model_module_version": "1.5.0",
          "state": {
            "_dom_classes": [],
            "_model_module": "@jupyter-widgets/controls",
            "_model_module_version": "1.5.0",
            "_model_name": "HBoxModel",
            "_view_count": null,
            "_view_module": "@jupyter-widgets/controls",
            "_view_module_version": "1.5.0",
            "_view_name": "HBoxView",
            "box_style": "",
            "children": [
              "IPY_MODEL_0a22995aeff54051bba0f3c95bbb3b4e",
              "IPY_MODEL_f4a9d1ae7397468784c16fcf88b2a8fe",
              "IPY_MODEL_6b299379aa3f4f7fbc71294a44abbf40"
            ],
            "layout": "IPY_MODEL_22666dad31d846aab4754a32ada4a808"
          }
        },
        "0a22995aeff54051bba0f3c95bbb3b4e": {
          "model_module": "@jupyter-widgets/controls",
          "model_name": "HTMLModel",
          "model_module_version": "1.5.0",
          "state": {
            "_dom_classes": [],
            "_model_module": "@jupyter-widgets/controls",
            "_model_module_version": "1.5.0",
            "_model_name": "HTMLModel",
            "_view_count": null,
            "_view_module": "@jupyter-widgets/controls",
            "_view_module_version": "1.5.0",
            "_view_name": "HTMLView",
            "description": "",
            "description_tooltip": null,
            "layout": "IPY_MODEL_89f39a74c09a43f29ee7fc409d1b2613",
            "placeholder": "​",
            "style": "IPY_MODEL_80b0fef757d544b6948664e0601c0f49",
            "value": "model.safetensors: 100%"
          }
        },
        "f4a9d1ae7397468784c16fcf88b2a8fe": {
          "model_module": "@jupyter-widgets/controls",
          "model_name": "FloatProgressModel",
          "model_module_version": "1.5.0",
          "state": {
            "_dom_classes": [],
            "_model_module": "@jupyter-widgets/controls",
            "_model_module_version": "1.5.0",
            "_model_name": "FloatProgressModel",
            "_view_count": null,
            "_view_module": "@jupyter-widgets/controls",
            "_view_module_version": "1.5.0",
            "_view_name": "ProgressView",
            "bar_style": "success",
            "description": "",
            "description_tooltip": null,
            "layout": "IPY_MODEL_3429f012fccc4721b3c58436f338b1e6",
            "max": 346284714,
            "min": 0,
            "orientation": "horizontal",
            "style": "IPY_MODEL_8de97c51960b4ccebc1b2869e5510d45",
            "value": 346284714
          }
        },
        "6b299379aa3f4f7fbc71294a44abbf40": {
          "model_module": "@jupyter-widgets/controls",
          "model_name": "HTMLModel",
          "model_module_version": "1.5.0",
          "state": {
            "_dom_classes": [],
            "_model_module": "@jupyter-widgets/controls",
            "_model_module_version": "1.5.0",
            "_model_name": "HTMLModel",
            "_view_count": null,
            "_view_module": "@jupyter-widgets/controls",
            "_view_module_version": "1.5.0",
            "_view_name": "HTMLView",
            "description": "",
            "description_tooltip": null,
            "layout": "IPY_MODEL_bac9e72c79644a8cbb1e17371e585bcd",
            "placeholder": "​",
            "style": "IPY_MODEL_064bfd17edb44f4fa8529c8a5476d0f5",
            "value": " 346M/346M [00:01&lt;00:00, 241MB/s]"
          }
        },
        "22666dad31d846aab4754a32ada4a808": {
          "model_module": "@jupyter-widgets/base",
          "model_name": "LayoutModel",
          "model_module_version": "1.2.0",
          "state": {
            "_model_module": "@jupyter-widgets/base",
            "_model_module_version": "1.2.0",
            "_model_name": "LayoutModel",
            "_view_count": null,
            "_view_module": "@jupyter-widgets/base",
            "_view_module_version": "1.2.0",
            "_view_name": "LayoutView",
            "align_content": null,
            "align_items": null,
            "align_self": null,
            "border": null,
            "bottom": null,
            "display": null,
            "flex": null,
            "flex_flow": null,
            "grid_area": null,
            "grid_auto_columns": null,
            "grid_auto_flow": null,
            "grid_auto_rows": null,
            "grid_column": null,
            "grid_gap": null,
            "grid_row": null,
            "grid_template_areas": null,
            "grid_template_columns": null,
            "grid_template_rows": null,
            "height": null,
            "justify_content": null,
            "justify_items": null,
            "left": null,
            "margin": null,
            "max_height": null,
            "max_width": null,
            "min_height": null,
            "min_width": null,
            "object_fit": null,
            "object_position": null,
            "order": null,
            "overflow": null,
            "overflow_x": null,
            "overflow_y": null,
            "padding": null,
            "right": null,
            "top": null,
            "visibility": null,
            "width": null
          }
        },
        "89f39a74c09a43f29ee7fc409d1b2613": {
          "model_module": "@jupyter-widgets/base",
          "model_name": "LayoutModel",
          "model_module_version": "1.2.0",
          "state": {
            "_model_module": "@jupyter-widgets/base",
            "_model_module_version": "1.2.0",
            "_model_name": "LayoutModel",
            "_view_count": null,
            "_view_module": "@jupyter-widgets/base",
            "_view_module_version": "1.2.0",
            "_view_name": "LayoutView",
            "align_content": null,
            "align_items": null,
            "align_self": null,
            "border": null,
            "bottom": null,
            "display": null,
            "flex": null,
            "flex_flow": null,
            "grid_area": null,
            "grid_auto_columns": null,
            "grid_auto_flow": null,
            "grid_auto_rows": null,
            "grid_column": null,
            "grid_gap": null,
            "grid_row": null,
            "grid_template_areas": null,
            "grid_template_columns": null,
            "grid_template_rows": null,
            "height": null,
            "justify_content": null,
            "justify_items": null,
            "left": null,
            "margin": null,
            "max_height": null,
            "max_width": null,
            "min_height": null,
            "min_width": null,
            "object_fit": null,
            "object_position": null,
            "order": null,
            "overflow": null,
            "overflow_x": null,
            "overflow_y": null,
            "padding": null,
            "right": null,
            "top": null,
            "visibility": null,
            "width": null
          }
        },
        "80b0fef757d544b6948664e0601c0f49": {
          "model_module": "@jupyter-widgets/controls",
          "model_name": "DescriptionStyleModel",
          "model_module_version": "1.5.0",
          "state": {
            "_model_module": "@jupyter-widgets/controls",
            "_model_module_version": "1.5.0",
            "_model_name": "DescriptionStyleModel",
            "_view_count": null,
            "_view_module": "@jupyter-widgets/base",
            "_view_module_version": "1.2.0",
            "_view_name": "StyleView",
            "description_width": ""
          }
        },
        "3429f012fccc4721b3c58436f338b1e6": {
          "model_module": "@jupyter-widgets/base",
          "model_name": "LayoutModel",
          "model_module_version": "1.2.0",
          "state": {
            "_model_module": "@jupyter-widgets/base",
            "_model_module_version": "1.2.0",
            "_model_name": "LayoutModel",
            "_view_count": null,
            "_view_module": "@jupyter-widgets/base",
            "_view_module_version": "1.2.0",
            "_view_name": "LayoutView",
            "align_content": null,
            "align_items": null,
            "align_self": null,
            "border": null,
            "bottom": null,
            "display": null,
            "flex": null,
            "flex_flow": null,
            "grid_area": null,
            "grid_auto_columns": null,
            "grid_auto_flow": null,
            "grid_auto_rows": null,
            "grid_column": null,
            "grid_gap": null,
            "grid_row": null,
            "grid_template_areas": null,
            "grid_template_columns": null,
            "grid_template_rows": null,
            "height": null,
            "justify_content": null,
            "justify_items": null,
            "left": null,
            "margin": null,
            "max_height": null,
            "max_width": null,
            "min_height": null,
            "min_width": null,
            "object_fit": null,
            "object_position": null,
            "order": null,
            "overflow": null,
            "overflow_x": null,
            "overflow_y": null,
            "padding": null,
            "right": null,
            "top": null,
            "visibility": null,
            "width": null
          }
        },
        "8de97c51960b4ccebc1b2869e5510d45": {
          "model_module": "@jupyter-widgets/controls",
          "model_name": "ProgressStyleModel",
          "model_module_version": "1.5.0",
          "state": {
            "_model_module": "@jupyter-widgets/controls",
            "_model_module_version": "1.5.0",
            "_model_name": "ProgressStyleModel",
            "_view_count": null,
            "_view_module": "@jupyter-widgets/base",
            "_view_module_version": "1.2.0",
            "_view_name": "StyleView",
            "bar_color": null,
            "description_width": ""
          }
        },
        "bac9e72c79644a8cbb1e17371e585bcd": {
          "model_module": "@jupyter-widgets/base",
          "model_name": "LayoutModel",
          "model_module_version": "1.2.0",
          "state": {
            "_model_module": "@jupyter-widgets/base",
            "_model_module_version": "1.2.0",
            "_model_name": "LayoutModel",
            "_view_count": null,
            "_view_module": "@jupyter-widgets/base",
            "_view_module_version": "1.2.0",
            "_view_name": "LayoutView",
            "align_content": null,
            "align_items": null,
            "align_self": null,
            "border": null,
            "bottom": null,
            "display": null,
            "flex": null,
            "flex_flow": null,
            "grid_area": null,
            "grid_auto_columns": null,
            "grid_auto_flow": null,
            "grid_auto_rows": null,
            "grid_column": null,
            "grid_gap": null,
            "grid_row": null,
            "grid_template_areas": null,
            "grid_template_columns": null,
            "grid_template_rows": null,
            "height": null,
            "justify_content": null,
            "justify_items": null,
            "left": null,
            "margin": null,
            "max_height": null,
            "max_width": null,
            "min_height": null,
            "min_width": null,
            "object_fit": null,
            "object_position": null,
            "order": null,
            "overflow": null,
            "overflow_x": null,
            "overflow_y": null,
            "padding": null,
            "right": null,
            "top": null,
            "visibility": null,
            "width": null
          }
        },
        "064bfd17edb44f4fa8529c8a5476d0f5": {
          "model_module": "@jupyter-widgets/controls",
          "model_name": "DescriptionStyleModel",
          "model_module_version": "1.5.0",
          "state": {
            "_model_module": "@jupyter-widgets/controls",
            "_model_module_version": "1.5.0",
            "_model_name": "DescriptionStyleModel",
            "_view_count": null,
            "_view_module": "@jupyter-widgets/base",
            "_view_module_version": "1.2.0",
            "_view_name": "StyleView",
            "description_width": ""
          }
        }
      }
    }
  },
  "cells": [
    {
      "cell_type": "code",
      "execution_count": null,
      "metadata": {
        "id": "UVK44wRKAHaP"
      },
      "outputs": [],
      "source": [
        "import os\n",
        "import glob\n",
        "import random\n",
        "import numpy as np\n",
        "import cv2\n",
        "import math\n",
        "from PIL import Image\n",
        "\n",
        "import timm\n",
        "\n",
        "import torch\n",
        "import torch.nn as nn\n",
        "import torch.optim as optim\n",
        "\n",
        "import torchvision.models as models\n",
        "from torchvision import transforms\n",
        "from torchvision.transforms import RandAugment, Compose\n",
        "from torch.utils.data import Dataset, DataLoader\n",
        "from tqdm import tqdm # for progress bar stuff\n",
        "import matplotlib.pyplot as plt"
      ]
    },
    {
      "cell_type": "code",
      "source": [
        "from google.colab import drive\n",
        "drive.mount('/content/drive')"
      ],
      "metadata": {
        "id": "TM5HUYeEr-zW",
        "colab": {
          "base_uri": "https://localhost:8080/"
        },
        "outputId": "efbf4ff6-f67e-4d01-94f2-30625650debb"
      },
      "execution_count": null,
      "outputs": [
        {
          "output_type": "stream",
          "name": "stdout",
          "text": [
            "Mounted at /content/drive\n"
          ]
        }
      ]
    },
    {
      "cell_type": "code",
      "source": [
        "class LabeledDataset(Dataset):\n",
        "    def __init__(self, folder_path, classes, transform=None):\n",
        "        \"\"\"\n",
        "        Args:\n",
        "            folder_path (str): Path to the folder containing labeled images\n",
        "            and subdirectories.\n",
        "\n",
        "            classes (list): List of class keywords.\n",
        "\n",
        "            transform (callable, optional):\n",
        "            Optional transform to apply to images.\n",
        "        \"\"\"\n",
        "        self.folder_path = folder_path\n",
        "        self.classes = classes\n",
        "        self.transform = transform\n",
        "\n",
        "        # Recursively collect all image paths from subdirectories\n",
        "        self.image_paths = []\n",
        "        for root, _, files in os.walk(folder_path):\n",
        "            for file in files:\n",
        "                if file.endswith((\".jpg\", \".jpeg\", \".JPG\")):\n",
        "                    self.image_paths.append(os.path.join(root, file))\n",
        "\n",
        "    def __len__(self):\n",
        "        return len(self.image_paths)\n",
        "\n",
        "    def __getitem__(self, idx):\n",
        "        # Load image\n",
        "        img_path = self.image_paths[idx]\n",
        "        image = Image.open(img_path).convert(\"RGB\")\n",
        "\n",
        "        # Extract class label from filename\n",
        "        label = None\n",
        "        for i, cls in enumerate(self.classes):\n",
        "            if cls in os.path.basename(img_path):\n",
        "                label = i\n",
        "                break\n",
        "\n",
        "        if label is None:\n",
        "            raise ValueError(f\"Class label not found in file name: {img_path}\")\n",
        "\n",
        "        # Apply transforms\n",
        "        if self.transform:\n",
        "            image = self.transform(image)\n",
        "\n",
        "        return image, torch.tensor(label, dtype=torch.long)\n"
      ],
      "metadata": {
        "id": "5mkpoaE-ruzR"
      },
      "execution_count": null,
      "outputs": []
    },
    {
      "cell_type": "code",
      "source": [
        "# Configuration\n",
        "class Config:\n",
        "    NUM_CLASSES = 9  # Update based on your dataset\n",
        "    DEVICE = 'cuda' if torch.cuda.is_available() else 'cpu'\n",
        "    BATCH_SIZE = 64\n",
        "    EPOCHS = 7\n",
        "    LR = 1e-4\n",
        "    LABELED_TRAIN_FOLDER = '/content/drive/MyDrive/CMSC_472_Final_Project/extra_photos/extra_train'\n",
        "    LABELED_TEST_FOLDER = '/content/drive/MyDrive/CMSC_472_Final_Project/extra_photos/extra_test'\n",
        "    # CLASSES = [\n",
        "    #     \"art_sociology\", \"atlantic\", \"brendan_iribe\", \"esj\", \"farm\",\n",
        "    #     \"mckeldinlib\", \"physics\", \"prince_frederick\", \"reckord_armory\",\n",
        "    #     \"regents_drive\", \"yahentamitsi_dinning\"\n",
        "    # ]\n",
        "    CLASSES = [\n",
        "        \"denton\", \"elkton\", \"ellicott\", \"hagerstown\", \"james_clark\", \"laplata\",\n",
        "        \"manufacture\", \"oakland\", \"recreation\"\n",
        "    ]\n",
        "\n",
        "# Pretrained Model\n",
        "vit_model = timm.create_model(\n",
        "    'vit_base_patch16_224',  # Vision Transformer model\n",
        "    pretrained=True,        # Load pretrained weights\n",
        "    num_classes=Config.NUM_CLASSES  # Match your dataset's number of classes\n",
        ").to(Config.DEVICE)\n",
        "\n",
        "# Loss and Optimizer\n",
        "criterion = nn.CrossEntropyLoss()\n",
        "optimizer = torch.optim.Adam(vit_model.parameters(), lr=Config.LR)\n",
        "\n",
        "transform = transforms.Compose([\n",
        "    transforms.Resize((224, 224)),\n",
        "    transforms.ToTensor(),\n",
        "    transforms.Normalize(mean=[0.485, 0.456, 0.406], std=[0.229, 0.224, 0.225])\n",
        "])\n",
        "\n",
        "train_dataset = LabeledDataset(Config.LABELED_TRAIN_FOLDER, Config.CLASSES, transform=transform)\n",
        "test_dataset = LabeledDataset(Config.LABELED_TEST_FOLDER, Config.CLASSES, transform=transform)\n",
        "\n",
        "train_loader = DataLoader(train_dataset,batch_size=Config.BATCH_SIZE, shuffle=True)\n",
        "test_loader = DataLoader(test_dataset, batch_size=Config.BATCH_SIZE, shuffle=False)\n"
      ],
      "metadata": {
        "id": "haulixDKsLDq",
        "colab": {
          "base_uri": "https://localhost:8080/",
          "height": 173,
          "referenced_widgets": [
            "8990a56960df400483cce4439a990115",
            "0a22995aeff54051bba0f3c95bbb3b4e",
            "f4a9d1ae7397468784c16fcf88b2a8fe",
            "6b299379aa3f4f7fbc71294a44abbf40",
            "22666dad31d846aab4754a32ada4a808",
            "89f39a74c09a43f29ee7fc409d1b2613",
            "80b0fef757d544b6948664e0601c0f49",
            "3429f012fccc4721b3c58436f338b1e6",
            "8de97c51960b4ccebc1b2869e5510d45",
            "bac9e72c79644a8cbb1e17371e585bcd",
            "064bfd17edb44f4fa8529c8a5476d0f5"
          ]
        },
        "outputId": "43a170d8-e0b2-45ec-886c-f05d20887737"
      },
      "execution_count": null,
      "outputs": [
        {
          "output_type": "stream",
          "name": "stderr",
          "text": [
            "/usr/local/lib/python3.10/dist-packages/huggingface_hub/utils/_auth.py:94: UserWarning: \n",
            "The secret `HF_TOKEN` does not exist in your Colab secrets.\n",
            "To authenticate with the Hugging Face Hub, create a token in your settings tab (https://huggingface.co/settings/tokens), set it as secret in your Google Colab and restart your session.\n",
            "You will be able to reuse this secret in all of your notebooks.\n",
            "Please note that authentication is recommended but still optional to access public models or datasets.\n",
            "  warnings.warn(\n"
          ]
        },
        {
          "output_type": "display_data",
          "data": {
            "text/plain": [
              "model.safetensors:   0%|          | 0.00/346M [00:00<?, ?B/s]"
            ],
            "application/vnd.jupyter.widget-view+json": {
              "version_major": 2,
              "version_minor": 0,
              "model_id": "8990a56960df400483cce4439a990115"
            }
          },
          "metadata": {}
        }
      ]
    },
    {
      "cell_type": "code",
      "source": [
        "# for name, module in vit_model.named_modules():\n",
        "#     print(name)"
      ],
      "metadata": {
        "id": "bBpgAp0RWSM5"
      },
      "execution_count": null,
      "outputs": []
    },
    {
      "cell_type": "code",
      "source": [
        "# Training Loop with Progress Bar and Checkpoints\n",
        "from tqdm import tqdm\n",
        "\n",
        "def train_and_evaluate(model, train_loader, test_loader, criterion, optimizer, epochs, device, checkpoint_dir=\"./checkpoints\"):\n",
        "    os.makedirs(checkpoint_dir, exist_ok=True)\n",
        "    best_accuracy = 0.0\n",
        "\n",
        "    for epoch in range(epochs):\n",
        "        model.train()\n",
        "        train_loss = 0.0\n",
        "        correct_train = 0\n",
        "        total_train = 0\n",
        "\n",
        "        loop = tqdm(train_loader, desc=f\"Epoch {epoch+1}/{epochs}\")\n",
        "        for images, labels in loop:\n",
        "            images, labels = images.to(device), labels.to(device)\n",
        "            optimizer.zero_grad()\n",
        "\n",
        "            outputs = model(images)\n",
        "            loss = criterion(outputs, labels)\n",
        "            loss.backward()\n",
        "            optimizer.step()\n",
        "\n",
        "            train_loss += loss.item()\n",
        "            _, preds = torch.max(outputs, 1)\n",
        "            correct_train += (preds == labels).sum().item()\n",
        "            total_train += labels.size(0)\n",
        "\n",
        "            # Update progress bar\n",
        "            loop.set_postfix(loss=train_loss/len(train_loader))\n",
        "\n",
        "        train_accuracy = correct_train / total_train\n",
        "        print(f\"Epoch {epoch+1}/{epochs}, Loss: {train_loss/len(train_loader):.4f}, Train Acc: {train_accuracy:.4f}\")\n",
        "\n",
        "        # Save checkpoint if performance improves\n",
        "        test_accuracy = calculate_accuracy(model, test_loader, device)\n",
        "        if test_accuracy > best_accuracy:\n",
        "            best_accuracy = test_accuracy\n",
        "            checkpoint_path = os.path.join(checkpoint_dir, f\"best_vit.pth\")\n",
        "            torch.save(model.state_dict(), checkpoint_path)\n",
        "            print(f\"Saved Best Model with Test Acc: {best_accuracy:.4f}\")\n",
        "\n",
        "    print(f\"Final Test Accuracy: {best_accuracy:.4f}\")\n",
        "\n",
        "# Function to Calculate Accuracy\n",
        "def calculate_accuracy(model, data_loader, device):\n",
        "    model.eval()\n",
        "    correct = 0\n",
        "    total = 0\n",
        "    with torch.no_grad():\n",
        "        for images, labels in data_loader:\n",
        "            images, labels = images.to(device), labels.to(device)\n",
        "            outputs = model(images)\n",
        "            _, predicted = torch.max(outputs, 1)\n",
        "            total += labels.size(0)\n",
        "            correct += (predicted == labels).sum().item()\n",
        "    return correct / total\n",
        "\n",
        "# Train the Pretrained Model\n",
        "train_and_evaluate(\n",
        "    vit_model,\n",
        "    train_loader,\n",
        "    test_loader,\n",
        "    criterion,\n",
        "    optimizer,\n",
        "    Config.EPOCHS,\n",
        "    Config.DEVICE\n",
        ")\n"
      ],
      "metadata": {
        "id": "OqJXAEkkUOye",
        "colab": {
          "base_uri": "https://localhost:8080/"
        },
        "outputId": "0bf1ae3f-63d3-48eb-8eff-1b714e148d8d"
      },
      "execution_count": null,
      "outputs": [
        {
          "output_type": "stream",
          "name": "stderr",
          "text": [
            "Epoch 1/7: 100%|██████████| 7/7 [05:16<00:00, 45.23s/it, loss=2.31]\n"
          ]
        },
        {
          "output_type": "stream",
          "name": "stdout",
          "text": [
            "Epoch 1/7, Loss: 2.3071, Train Acc: 0.1949\n",
            "Saved Best Model with Test Acc: 0.4035\n"
          ]
        },
        {
          "output_type": "stream",
          "name": "stderr",
          "text": [
            "Epoch 2/7: 100%|██████████| 7/7 [02:06<00:00, 18.00s/it, loss=1.24]\n"
          ]
        },
        {
          "output_type": "stream",
          "name": "stdout",
          "text": [
            "Epoch 2/7, Loss: 1.2423, Train Acc: 0.5777\n",
            "Saved Best Model with Test Acc: 0.8596\n"
          ]
        },
        {
          "output_type": "stream",
          "name": "stderr",
          "text": [
            "Epoch 3/7: 100%|██████████| 7/7 [02:01<00:00, 17.41s/it, loss=0.333]\n"
          ]
        },
        {
          "output_type": "stream",
          "name": "stdout",
          "text": [
            "Epoch 3/7, Loss: 0.3325, Train Acc: 0.8933\n"
          ]
        },
        {
          "output_type": "stream",
          "name": "stderr",
          "text": [
            "Epoch 4/7: 100%|██████████| 7/7 [02:04<00:00, 17.74s/it, loss=0.135]\n"
          ]
        },
        {
          "output_type": "stream",
          "name": "stdout",
          "text": [
            "Epoch 4/7, Loss: 0.1352, Train Acc: 0.9374\n"
          ]
        },
        {
          "output_type": "stream",
          "name": "stderr",
          "text": [
            "Epoch 5/7: 100%|██████████| 7/7 [02:04<00:00, 17.82s/it, loss=0.0997]\n"
          ]
        },
        {
          "output_type": "stream",
          "name": "stdout",
          "text": [
            "Epoch 5/7, Loss: 0.0997, Train Acc: 0.9675\n",
            "Saved Best Model with Test Acc: 0.8947\n"
          ]
        },
        {
          "output_type": "stream",
          "name": "stderr",
          "text": [
            "Epoch 6/7: 100%|██████████| 7/7 [02:05<00:00, 17.98s/it, loss=0.0424]\n"
          ]
        },
        {
          "output_type": "stream",
          "name": "stdout",
          "text": [
            "Epoch 6/7, Loss: 0.0424, Train Acc: 0.9861\n"
          ]
        },
        {
          "output_type": "stream",
          "name": "stderr",
          "text": [
            "Epoch 7/7: 100%|██████████| 7/7 [02:06<00:00, 18.05s/it, loss=0.0547]\n"
          ]
        },
        {
          "output_type": "stream",
          "name": "stdout",
          "text": [
            "Epoch 7/7, Loss: 0.0547, Train Acc: 0.9884\n",
            "Final Test Accuracy: 0.8947\n"
          ]
        }
      ]
    },
    {
      "cell_type": "code",
      "source": [
        "# print(vit_model)"
      ],
      "metadata": {
        "id": "VTD6DRyhUS4B"
      },
      "execution_count": null,
      "outputs": []
    },
    {
      "cell_type": "code",
      "source": [
        "!pip install grad-cam"
      ],
      "metadata": {
        "collapsed": true,
        "id": "M8DFDT01868B",
        "colab": {
          "base_uri": "https://localhost:8080/"
        },
        "outputId": "f5243941-c645-4c26-9b12-d0ba19b39e5e"
      },
      "execution_count": null,
      "outputs": [
        {
          "output_type": "stream",
          "name": "stdout",
          "text": [
            "Collecting grad-cam\n",
            "  Downloading grad-cam-1.5.4.tar.gz (7.8 MB)\n",
            "\u001b[?25l     \u001b[90m━━━━━━━━━━━━━━━━━━━━━━━━━━━━━━━━━━━━━━━━\u001b[0m \u001b[32m0.0/7.8 MB\u001b[0m \u001b[31m?\u001b[0m eta \u001b[36m-:--:--\u001b[0m\r\u001b[2K     \u001b[91m━━\u001b[0m\u001b[91m╸\u001b[0m\u001b[90m━━━━━━━━━━━━━━━━━━━━━━━━━━━━━━━━━━━━━\u001b[0m \u001b[32m0.5/7.8 MB\u001b[0m \u001b[31m15.1 MB/s\u001b[0m eta \u001b[36m0:00:01\u001b[0m\r\u001b[2K     \u001b[91m━━━━━━━━━━━━━━━━━━━━\u001b[0m\u001b[91m╸\u001b[0m\u001b[90m━━━━━━━━━━━━━━━━━━━\u001b[0m \u001b[32m4.0/7.8 MB\u001b[0m \u001b[31m58.2 MB/s\u001b[0m eta \u001b[36m0:00:01\u001b[0m\r\u001b[2K     \u001b[91m━━━━━━━━━━━━━━━━━━━━━━━━━━━━━━━━━━━━━━━\u001b[0m\u001b[91m╸\u001b[0m \u001b[32m7.8/7.8 MB\u001b[0m \u001b[31m78.6 MB/s\u001b[0m eta \u001b[36m0:00:01\u001b[0m\r\u001b[2K     \u001b[90m━━━━━━━━━━━━━━━━━━━━━━━━━━━━━━━━━━━━━━━━\u001b[0m \u001b[32m7.8/7.8 MB\u001b[0m \u001b[31m55.8 MB/s\u001b[0m eta \u001b[36m0:00:00\u001b[0m\n",
            "\u001b[?25h  Installing build dependencies ... \u001b[?25l\u001b[?25hdone\n",
            "  Getting requirements to build wheel ... \u001b[?25l\u001b[?25hdone\n",
            "  Preparing metadata (pyproject.toml) ... \u001b[?25l\u001b[?25hdone\n",
            "Requirement already satisfied: numpy in /usr/local/lib/python3.10/dist-packages (from grad-cam) (1.26.4)\n",
            "Requirement already satisfied: Pillow in /usr/local/lib/python3.10/dist-packages (from grad-cam) (11.0.0)\n",
            "Requirement already satisfied: torch>=1.7.1 in /usr/local/lib/python3.10/dist-packages (from grad-cam) (2.5.1+cu121)\n",
            "Requirement already satisfied: torchvision>=0.8.2 in /usr/local/lib/python3.10/dist-packages (from grad-cam) (0.20.1+cu121)\n",
            "Collecting ttach (from grad-cam)\n",
            "  Downloading ttach-0.0.3-py3-none-any.whl.metadata (5.2 kB)\n",
            "Requirement already satisfied: tqdm in /usr/local/lib/python3.10/dist-packages (from grad-cam) (4.66.6)\n",
            "Requirement already satisfied: opencv-python in /usr/local/lib/python3.10/dist-packages (from grad-cam) (4.10.0.84)\n",
            "Requirement already satisfied: matplotlib in /usr/local/lib/python3.10/dist-packages (from grad-cam) (3.8.0)\n",
            "Requirement already satisfied: scikit-learn in /usr/local/lib/python3.10/dist-packages (from grad-cam) (1.5.2)\n",
            "Requirement already satisfied: filelock in /usr/local/lib/python3.10/dist-packages (from torch>=1.7.1->grad-cam) (3.16.1)\n",
            "Requirement already satisfied: typing-extensions>=4.8.0 in /usr/local/lib/python3.10/dist-packages (from torch>=1.7.1->grad-cam) (4.12.2)\n",
            "Requirement already satisfied: networkx in /usr/local/lib/python3.10/dist-packages (from torch>=1.7.1->grad-cam) (3.4.2)\n",
            "Requirement already satisfied: jinja2 in /usr/local/lib/python3.10/dist-packages (from torch>=1.7.1->grad-cam) (3.1.4)\n",
            "Requirement already satisfied: fsspec in /usr/local/lib/python3.10/dist-packages (from torch>=1.7.1->grad-cam) (2024.10.0)\n",
            "Requirement already satisfied: sympy==1.13.1 in /usr/local/lib/python3.10/dist-packages (from torch>=1.7.1->grad-cam) (1.13.1)\n",
            "Requirement already satisfied: mpmath<1.4,>=1.1.0 in /usr/local/lib/python3.10/dist-packages (from sympy==1.13.1->torch>=1.7.1->grad-cam) (1.3.0)\n",
            "Requirement already satisfied: contourpy>=1.0.1 in /usr/local/lib/python3.10/dist-packages (from matplotlib->grad-cam) (1.3.1)\n",
            "Requirement already satisfied: cycler>=0.10 in /usr/local/lib/python3.10/dist-packages (from matplotlib->grad-cam) (0.12.1)\n",
            "Requirement already satisfied: fonttools>=4.22.0 in /usr/local/lib/python3.10/dist-packages (from matplotlib->grad-cam) (4.55.0)\n",
            "Requirement already satisfied: kiwisolver>=1.0.1 in /usr/local/lib/python3.10/dist-packages (from matplotlib->grad-cam) (1.4.7)\n",
            "Requirement already satisfied: packaging>=20.0 in /usr/local/lib/python3.10/dist-packages (from matplotlib->grad-cam) (24.2)\n",
            "Requirement already satisfied: pyparsing>=2.3.1 in /usr/local/lib/python3.10/dist-packages (from matplotlib->grad-cam) (3.2.0)\n",
            "Requirement already satisfied: python-dateutil>=2.7 in /usr/local/lib/python3.10/dist-packages (from matplotlib->grad-cam) (2.8.2)\n",
            "Requirement already satisfied: scipy>=1.6.0 in /usr/local/lib/python3.10/dist-packages (from scikit-learn->grad-cam) (1.13.1)\n",
            "Requirement already satisfied: joblib>=1.2.0 in /usr/local/lib/python3.10/dist-packages (from scikit-learn->grad-cam) (1.4.2)\n",
            "Requirement already satisfied: threadpoolctl>=3.1.0 in /usr/local/lib/python3.10/dist-packages (from scikit-learn->grad-cam) (3.5.0)\n",
            "Requirement already satisfied: six>=1.5 in /usr/local/lib/python3.10/dist-packages (from python-dateutil>=2.7->matplotlib->grad-cam) (1.16.0)\n",
            "Requirement already satisfied: MarkupSafe>=2.0 in /usr/local/lib/python3.10/dist-packages (from jinja2->torch>=1.7.1->grad-cam) (3.0.2)\n",
            "Downloading ttach-0.0.3-py3-none-any.whl (9.8 kB)\n",
            "Building wheels for collected packages: grad-cam\n",
            "  Building wheel for grad-cam (pyproject.toml) ... \u001b[?25l\u001b[?25hdone\n",
            "  Created wheel for grad-cam: filename=grad_cam-1.5.4-py3-none-any.whl size=39588 sha256=b1d9205b9d1d28cf1d6ffc6826150bfeae2b7b55c16531c236c5009c40af0468\n",
            "  Stored in directory: /root/.cache/pip/wheels/50/b0/82/1f97b5348c7fe9f0ce0ba18497202cafa5dec4562bd5292680\n",
            "Successfully built grad-cam\n",
            "Installing collected packages: ttach, grad-cam\n",
            "Successfully installed grad-cam-1.5.4 ttach-0.0.3\n"
          ]
        }
      ]
    },
    {
      "cell_type": "code",
      "source": [
        "import cv2\n",
        "import numpy as np\n",
        "import torch\n",
        "import timm\n",
        "from pytorch_grad_cam import GradCAM, GradCAMPlusPlus, ScoreCAM, XGradCAM, EigenCAM\n",
        "from pytorch_grad_cam.utils.image import show_cam_on_image, preprocess_image\n",
        "\n",
        "# Custom Config class for settings\n",
        "class Config:\n",
        "    DEVICE = torch.device('cuda' if torch.cuda.is_available() else 'cpu')\n",
        "    IMAGE_PATH = '/content/drive/MyDrive/CMSC_472_Final_Project/extra_photos/extra_test/recreation_test/recreation_building_jerry_2024-11-27_01-44-51_0_train_1.jpg'\n",
        "    MODEL_PATH = './checkpoints/best_vit.pth'\n",
        "    METHOD = 'gradcam'  # Options: gradcam, gradcam++, scorecam, xgradcam, eigencam\n",
        "    AUG_SMOOTH = False\n",
        "    EIGEN_SMOOTH = False\n",
        "\n",
        "def reshape_transform(tensor, height=14, width=14):\n",
        "    \"\"\"\n",
        "    Transform the output of a Vision Transformer for Grad-CAM processing.\n",
        "    \"\"\"\n",
        "    result = tensor[:, 1:, :].reshape(tensor.size(0), height, width, tensor.size(2))\n",
        "    result = result.transpose(2, 3).transpose(1, 2)  # Bring channels to the first dimension\n",
        "    return result\n",
        "\n",
        "\n",
        "# Load pre-trained Vision Transformer model\n",
        "vit_model = timm.create_model('vit_base_patch16_224', pretrained=False, num_classes=9)\n",
        "vit_model.load_state_dict(torch.load(Config.MODEL_PATH, map_location=Config.DEVICE))\n",
        "vit_model = vit_model.to(Config.DEVICE).eval()\n",
        "\n",
        "# Specify the target layer for Grad-CAM\n",
        "target_layers = [vit_model.blocks[-1].norm1]\n",
        "\n",
        "# Select Grad-CAM method\n",
        "methods = {\n",
        "    \"gradcam\": GradCAM,\n",
        "    \"gradcam++\": GradCAMPlusPlus,\n",
        "    \"scorecam\": ScoreCAM,\n",
        "    \"xgradcam\": XGradCAM,\n",
        "    \"eigencam\": EigenCAM,\n",
        "}\n",
        "cam_method = methods[Config.METHOD]\n",
        "\n",
        "# Initialize Grad-CAM\n",
        "cam = cam_method(\n",
        "    model=vit_model,\n",
        "    target_layers=target_layers,\n",
        "    reshape_transform=reshape_transform,\n",
        ")\n",
        "\n",
        "# Read and preprocess the input image\n",
        "rgb_img = cv2.imread(Config.IMAGE_PATH, 1)[:, :, ::-1]  # Convert BGR to RGB\n",
        "rgb_img = cv2.resize(rgb_img, (224, 224))\n",
        "rgb_img = np.float32(rgb_img) / 255\n",
        "input_tensor = preprocess_image(rgb_img, mean=[0.485, 0.456, 0.406], std=[0.229, 0.224, 0.225]).to(Config.DEVICE)\n",
        "\n",
        "# Generate Grad-CAM visualization\n",
        "grayscale_cam = cam(input_tensor=input_tensor, targets=None, eigen_smooth=Config.EIGEN_SMOOTH, aug_smooth=Config.AUG_SMOOTH)\n",
        "grayscale_cam = grayscale_cam[0, :]  # Process the first image in the batch\n",
        "\n",
        "# Overlay the Grad-CAM heatmap on the input image\n",
        "cam_image = show_cam_on_image(rgb_img, grayscale_cam)\n",
        "output_path = f\"{Config.METHOD}_cam.jpg\"\n",
        "cv2.imwrite(output_path, cam_image)\n",
        "\n",
        "print(f\"Grad-CAM visualization saved to {output_path}\")\n"
      ],
      "metadata": {
        "id": "bQ3ZLzX6UYmN",
        "colab": {
          "base_uri": "https://localhost:8080/"
        },
        "outputId": "e3cebdce-6d4c-4d3a-f24a-f0bd5e6f34bb"
      },
      "execution_count": null,
      "outputs": [
        {
          "output_type": "stream",
          "name": "stderr",
          "text": [
            "<ipython-input-12-31714bc4e243>:28: FutureWarning: You are using `torch.load` with `weights_only=False` (the current default value), which uses the default pickle module implicitly. It is possible to construct malicious pickle data which will execute arbitrary code during unpickling (See https://github.com/pytorch/pytorch/blob/main/SECURITY.md#untrusted-models for more details). In a future release, the default value for `weights_only` will be flipped to `True`. This limits the functions that could be executed during unpickling. Arbitrary objects will no longer be allowed to be loaded via this mode unless they are explicitly allowlisted by the user via `torch.serialization.add_safe_globals`. We recommend you start setting `weights_only=True` for any use case where you don't have full control of the loaded file. Please open an issue on GitHub for any issues related to this experimental feature.\n",
            "  vit_model.load_state_dict(torch.load(Config.MODEL_PATH, map_location=Config.DEVICE))\n"
          ]
        },
        {
          "output_type": "stream",
          "name": "stdout",
          "text": [
            "Grad-CAM visualization saved to gradcam_cam.jpg\n"
          ]
        }
      ]
    }
  ]
}